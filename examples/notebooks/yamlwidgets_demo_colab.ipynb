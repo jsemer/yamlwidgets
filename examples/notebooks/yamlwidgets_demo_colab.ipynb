{
  "nbformat": 4,
  "nbformat_minor": 0,
  "metadata": {
    "colab": {
      "provenance": []
    },
    "kernelspec": {
      "name": "python3",
      "display_name": "Python 3"
    },
    "language_info": {
      "name": "python"
    }
  },
  "cells": [
    {
      "cell_type": "markdown",
      "source": [
        "# Overview\n",
        "\n",
        "This is a example notebook to illustrate the use of the yamlwidgets package"
      ],
      "metadata": {
        "id": "dkJ8ydIlIF7m"
      }
    },
    {
      "cell_type": "markdown",
      "source": [
        "# Initialization\n",
        "\n",
        "Install the yamlwidgets package"
      ],
      "metadata": {
        "id": "w1Vne08UH5qh"
      }
    },
    {
      "cell_type": "code",
      "source": [
        "!pip install git+https://github.com/jsemer/yamlwidgets"
      ],
      "metadata": {
        "id": "JSEqm1NoK1GK"
      },
      "execution_count": null,
      "outputs": []
    },
    {
      "cell_type": "markdown",
      "source": [
        "# Get the example data"
      ],
      "metadata": {
        "id": "O1Z44QF4LgIC"
      }
    },
    {
      "cell_type": "code",
      "source": [
        "![ -d yamlwidgets ] || git clone https://github.com/jsemer/yamlwidgets"
      ],
      "metadata": {
        "id": "BtW6NQoVGZNp"
      },
      "execution_count": null,
      "outputs": []
    },
    {
      "cell_type": "markdown",
      "source": [
        "# Imports\n",
        "\n",
        "Import the required packages"
      ],
      "metadata": {
        "id": "lhpJEO4iMVU5"
      }
    },
    {
      "cell_type": "code",
      "source": [
        "import sys\n",
        "import os\n",
        "from pathlib import Path\n",
        "\n",
        "from yamlwidgets import YamlWidgets"
      ],
      "metadata": {
        "id": "mhO5IJb6Gklk"
      },
      "execution_count": null,
      "outputs": []
    },
    {
      "cell_type": "markdown",
      "source": [
        "# Data Directory\n",
        "\n",
        "Define the location of the data files"
      ],
      "metadata": {
        "id": "Oe_IwtdKMb4a"
      }
    },
    {
      "cell_type": "code",
      "source": [
        "data_dir = Path(\"yamlwidgets/examples/data\")\n",
        "\n",
        "test_in = data_dir / \"test-in.yaml\"\n",
        "test_out = data_dir / \"test-out.yaml\""
      ],
      "metadata": {
        "id": "LKPzQ5FcGxuQ"
      },
      "execution_count": null,
      "outputs": []
    },
    {
      "cell_type": "markdown",
      "source": [
        "# Print the input file"
      ],
      "metadata": {
        "id": "sG0kjbnoJKk8"
      }
    },
    {
      "cell_type": "code",
      "source": [
        "with open(test_in, \"r\") as f:\n",
        "    print(f.read())"
      ],
      "metadata": {
        "id": "CpVbvkG7JMEz"
      },
      "execution_count": null,
      "outputs": []
    },
    {
      "cell_type": "markdown",
      "source": [
        "# Create and display the widgets\n",
        "\n",
        "Note: parameter to YamlWidgets is any legal value to ruamel.yaml.load()"
      ],
      "metadata": {
        "id": "tLHNFaKsJgtC"
      }
    },
    {
      "cell_type": "code",
      "source": [
        "#\n",
        "# Create and display widgets\n",
        "#\n",
        "yw = YamlWidgets(test_in)\n",
        "\n",
        "yw.display()"
      ],
      "metadata": {
        "id": "tkwpZ_YfJP1p"
      },
      "execution_count": null,
      "outputs": []
    },
    {
      "cell_type": "markdown",
      "source": [
        "# Print the resulting YAML file"
      ],
      "metadata": {
        "id": "3Zx2gD_hNLGv"
      }
    },
    {
      "cell_type": "code",
      "source": [
        "yw.dump(sys.stdout)"
      ],
      "metadata": {
        "id": "RypqCnERJudu"
      },
      "execution_count": null,
      "outputs": []
    },
    {
      "cell_type": "code",
      "source": [],
      "metadata": {
        "id": "8bv563R5NXbX"
      },
      "execution_count": null,
      "outputs": []
    }
  ]
}