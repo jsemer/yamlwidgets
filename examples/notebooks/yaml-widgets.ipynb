{
 "cells": [
  {
   "cell_type": "markdown",
   "id": "affiliated-rabbit",
   "metadata": {},
   "source": [
    "# YAML widgets example\n",
    "\n",
    "Example of reading a YAML file and allowing it to be updated using the YamlWidgets class"
   ]
  },
  {
   "cell_type": "markdown",
   "id": "ad6bcf5c",
   "metadata": {},
   "source": [
    "# Install package (conditionally)\n",
    "\n",
    "If the `yamlwidgets` package is NOT installed in your Jupyter environment this cell will install it.\n",
    "\n",
    "See cell at bottom to enable debugging..."
   ]
  },
  {
   "cell_type": "code",
   "execution_count": null,
   "id": "cbd5200f",
   "metadata": {},
   "outputs": [],
   "source": [
    "import pkgutil\n",
    "\n",
    "if 'yamlwidgets' not in [pkg.name for pkg in pkgutil.iter_modules()]:\n",
    "  !pip  install git+https://github.com/jsemer/yamlwidgets --quiet"
   ]
  },
  {
   "cell_type": "markdown",
   "id": "687e40b7",
   "metadata": {},
   "source": [
    "# Imports\n",
    "\n",
    "Import the required packages"
   ]
  },
  {
   "cell_type": "code",
   "execution_count": null,
   "id": "lovely-genealogy",
   "metadata": {},
   "outputs": [],
   "source": [
    "import sys\n",
    "import os\n",
    "from pathlib import Path\n",
    "import ipywidgets as widgets\n",
    "\n",
    "from yamlwidgets import *\n"
   ]
  },
  {
   "cell_type": "markdown",
   "id": "feaf3d5a",
   "metadata": {},
   "source": [
    "# Define data directory\n",
    "\n",
    "Download it if it doesn't already exist."
   ]
  },
  {
   "cell_type": "code",
   "execution_count": null,
   "id": "eb34667c",
   "metadata": {},
   "outputs": [],
   "source": [
    "data_dir = Path(\"../data\")\n",
    "\n",
    "if not os.path.exists(data_dir):\n",
    "  ! git clone https://github.com/jsemer/yamlwidgets.git\n",
    "  data_dir = Path(\"./yamlwidgets/examples/data\")"
   ]
  },
  {
   "cell_type": "markdown",
   "id": "d5605a17",
   "metadata": {},
   "source": [
    "# Simple Demo\n",
    "\n",
    "The following cells contain a simple demo of an widget-enhanced YAML file. The demo illustrates the use of the methods to read, display and dump the YAML file. It uses a single widget types - `IntSlider` and shows how comments are presevered."
   ]
  },
  {
   "cell_type": "markdown",
   "id": "vocational-awareness",
   "metadata": {},
   "source": [
    "## Define input/output YAML files"
   ]
  },
  {
   "cell_type": "code",
   "execution_count": null,
   "id": "continuous-recommendation",
   "metadata": {},
   "outputs": [],
   "source": [
    "# Get a list of YAML files in the data directory\n",
    "yaml_files = sorted([file for file in os.listdir(data_dir) if file.endswith(\".yaml\")])\n",
    "\n",
    "default_demo = \"basic-demo.yaml\"\n",
    "\n",
    "test_in = data_dir / default_demo\n",
    "test_out = data_dir / \"test-out.yaml\"\n",
    "\n",
    "# Function to update the selected file\n",
    "def update_selected_file(file):\n",
    "    global test_in\n",
    "    global data_dir\n",
    "    test_in = data_dir / file.new\n",
    "\n",
    "# Create the dropdown widget and register the function to be called when the dropdown value changes\n",
    "input_dropdown = widgets.Dropdown(options=yaml_files, \n",
    "                                  value=default_demo,\n",
    "                                  description=\"Select YAML file:\",\n",
    "                                  style={'description_width': 'initial'},\n",
    "                                  layout=widgets.Layout(width='350px'))\n",
    "input_dropdown.observe(update_selected_file, names='value')\n",
    "\n",
    "# Display the dropdown widget\n",
    "display(input_dropdown)"
   ]
  },
  {
   "cell_type": "markdown",
   "id": "fatty-exhaust",
   "metadata": {},
   "source": [
    "## Print the input file"
   ]
  },
  {
   "cell_type": "code",
   "execution_count": null,
   "id": "understood-patent",
   "metadata": {},
   "outputs": [],
   "source": [
    "with open(test_in, \"r\") as f:\n",
    "    print(f.read())"
   ]
  },
  {
   "cell_type": "markdown",
   "id": "dental-friendly",
   "metadata": {},
   "source": [
    "## Create and display the widgets\n",
    "\n",
    "Note: parameter to YamlWidgets is any legal value to `ruamel.yaml.load()`"
   ]
  },
  {
   "cell_type": "code",
   "execution_count": null,
   "id": "extensive-socket",
   "metadata": {},
   "outputs": [],
   "source": [
    "#\n",
    "# Create and display widgets\n",
    "#\n",
    "yw = YamlWidgets(test_in)\n",
    "\n",
    "yw.display()"
   ]
  },
  {
   "cell_type": "markdown",
   "id": "manual-underwear",
   "metadata": {},
   "source": [
    "## Print the resulting YAML with updated values"
   ]
  },
  {
   "cell_type": "code",
   "execution_count": null,
   "id": "changing-necklace",
   "metadata": {},
   "outputs": [],
   "source": [
    "yw.dump(sys.stdout)"
   ]
  },
  {
   "cell_type": "markdown",
   "id": "miniature-supplement",
   "metadata": {},
   "source": [
    "## Dump YAML with updated values back to a file"
   ]
  },
  {
   "cell_type": "code",
   "execution_count": null,
   "id": "appropriate-globe",
   "metadata": {},
   "outputs": [],
   "source": [
    "yw.dump(test_out)\n",
    "\n",
    "with open(test_out, \"r\") as f:\n",
    "    print(f.read())\n"
   ]
  },
  {
   "cell_type": "markdown",
   "id": "divided-isolation",
   "metadata": {},
   "source": [
    "## Dump YAML with the updated values into a string"
   ]
  },
  {
   "cell_type": "code",
   "execution_count": null,
   "id": "close-jefferson",
   "metadata": {},
   "outputs": [],
   "source": [
    "yaml_string = yw.dump()\n",
    "print(yaml_string)"
   ]
  },
  {
   "cell_type": "markdown",
   "id": "brutal-camel",
   "metadata": {},
   "source": [
    "## Delete the newly created YAML file"
   ]
  },
  {
   "cell_type": "code",
   "execution_count": null,
   "id": "threatened-sessions",
   "metadata": {},
   "outputs": [],
   "source": [
    "os.remove(test_out)"
   ]
  },
  {
   "cell_type": "code",
   "execution_count": null,
   "id": "0cabab32",
   "metadata": {},
   "outputs": [],
   "source": []
  },
  {
   "cell_type": "markdown",
   "id": "e5ec9c46-756f-4d70-9d7a-d9cc56e5bbd9",
   "metadata": {},
   "source": [
    "## Run this cell to enable debugging (optional)"
   ]
  },
  {
   "cell_type": "code",
   "execution_count": null,
   "id": "bc8d043a-4c67-4f00-92ee-751b6d8469b8",
   "metadata": {},
   "outputs": [],
   "source": [
    "%load_ext autoreload\n",
    "%autoreload 2\n",
    "\n",
    "import logging\n",
    "import ipywidgets as widgets\n",
    "\n",
    "logger = logging.getLogger('yaml_widgets')\n",
    "handler = logging.StreamHandler()\n",
    "logger.addHandler(handler)\n",
    "\n",
    "# Function to update the logging level\n",
    "def update_logging_level(level):\n",
    "    global foo\n",
    "    level_mapping = {\n",
    "        'DEBUG': logging.DEBUG,\n",
    "        'INFO': logging.INFO,\n",
    "        'WARNING': logging.WARNING,\n",
    "        'ERROR': logging.ERROR,\n",
    "        'CRITICAL': logging.CRITICAL\n",
    "    }\n",
    "    logger.setLevel(level_mapping[level.new])\n",
    "\n",
    "\n",
    "# Create the dropdown widget\n",
    "logger_dropdown = widgets.Dropdown(\n",
    "    options=['DEBUG', 'INFO', 'WARNING', 'ERROR', 'CRITICAL'],\n",
    "    description='Logging Level:',\n",
    "    value='INFO',\n",
    "    style={'description_width': 'initial'})\n",
    "\n",
    "# Register the function to be called when the dropdown value changes\n",
    "#logger_dropdown.observe(lambda change: update_logging_level(change.new), names='value')\n",
    "logger_dropdown.observe(update_logging_level, names='value')\n",
    "\n",
    "# Display the dropdown widget\n",
    "display(logger_dropdown)\n"
   ]
  },
  {
   "cell_type": "code",
   "execution_count": null,
   "id": "29615215-28f7-4ddf-9903-7c0a7335f3b7",
   "metadata": {},
   "outputs": [],
   "source": []
  }
 ],
 "metadata": {
  "kernelspec": {
   "display_name": "Python 3 (ipykernel)",
   "language": "python",
   "name": "python3"
  },
  "language_info": {
   "codemirror_mode": {
    "name": "ipython",
    "version": 3
   },
   "file_extension": ".py",
   "mimetype": "text/x-python",
   "name": "python",
   "nbconvert_exporter": "python",
   "pygments_lexer": "ipython3",
   "version": "3.10.8"
  }
 },
 "nbformat": 4,
 "nbformat_minor": 5
}
